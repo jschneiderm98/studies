{
 "cells": [
  {
   "cell_type": "code",
   "execution_count": null,
   "metadata": {},
   "outputs": [],
   "source": [
    "from conversion import *"
   ]
  },
  {
   "cell_type": "code",
   "execution_count": null,
   "metadata": {},
   "outputs": [],
   "source": [
    "def find_volume(v, m):\n",
    "    return v*m\n",
    "def find_delta_U(delta_u, m):\n",
    "    return delta_u*m\n",
    "def find_work(Q, delta_ke, delta_pe, delta_U):\n",
    "    W = Q - (delta_ke + delta_pe + delta_U)\n",
    "    print(f'W = {j_to_btu(Q)} - ({j_to_btu(delta_ke)} + {j_to_btu(delta_pe)} + {j_to_btu(delta_U)})')\n",
    "    return W\n",
    "def find_cte(p, V, n):\n",
    "    cte = p * V**2\n",
    "    return cte\n"
   ]
  },
  {
   "cell_type": "code",
   "execution_count": null,
   "metadata": {},
   "outputs": [],
   "source": [
    "p_1 = lbf_per_squaredIn_to_pascal(500) # pa\n",
    "v_1 = cubicFt_per_lb_to_cubicMeter_per_kg(1701) # m**3 / kg\n",
    "u_1 = btu_per_lb_to_j_per_kg(1363.3) # J / kg\n",
    "u_2 = btu_per_lb_to_j_per_kg(990.58) # J / kg\n",
    "Q = btu_to_j(-342.9) # J\n",
    "m_vapor = lb_to_kg(1.2) # kg\n",
    "\n",
    "delta_ke = 0\n",
    "delta_pe = 0"
   ]
  },
  {
   "cell_type": "code",
   "execution_count": null,
   "metadata": {},
   "outputs": [],
   "source": [
    "V_1 = find_volume(v=v_1, m=m_vapor) # m**3\n",
    "cte = find_cte(p=p_1, V=V_1, n=2) \n",
    "delta_U = find_delta_U(delta_u=(u_2 - u_1), m=m_vapor) # J\n",
    "W = find_work(Q=Q, delta_ke=delta_ke, delta_pe=delta_pe, delta_U=delta_U) # J\n",
    "print(f'W = {W} (J)')\n",
    "print(f'W = {j_to_btu(W)} (BTU)')"
   ]
  }
 ],
 "metadata": {
  "kernelspec": {
   "display_name": "Python 3.9.13 64-bit (microsoft store)",
   "language": "python",
   "name": "python3"
  },
  "language_info": {
   "codemirror_mode": {
    "name": "ipython",
    "version": 3
   },
   "file_extension": ".py",
   "mimetype": "text/x-python",
   "name": "python",
   "nbconvert_exporter": "python",
   "pygments_lexer": "ipython3",
   "version": "3.9.13"
  },
  "orig_nbformat": 4,
  "vscode": {
   "interpreter": {
    "hash": "58203ea5cc6b953255c20a4b38db5ab9c1cb279d706fcbe41a9032f183adb22a"
   }
  }
 },
 "nbformat": 4,
 "nbformat_minor": 2
}
