{
 "cells": [
  {
   "cell_type": "code",
   "execution_count": 21,
   "metadata": {},
   "outputs": [],
   "source": [
    "from conversion import *"
   ]
  },
  {
   "cell_type": "code",
   "execution_count": 22,
   "metadata": {},
   "outputs": [],
   "source": [
    "def find_volume(v, m):\n",
    "    return v*m\n",
    "def find_specific_volume(V, m):\n",
    "    return V/m\n",
    "def find_delta_U(delta_u, m):\n",
    "    return delta_u*m\n",
    "def find_work(Q, delta_ke, delta_pe, delta_U):\n",
    "    W = Q - (delta_ke + delta_pe + delta_U)\n",
    "    return W\n",
    "def find_v_2(v_1, W, m, p_1): # result of integration\n",
    "    return 1 / ((1/v_1) - (W / (m * p_1 * v_1**2)))"
   ]
  },
  {
   "cell_type": "markdown",
   "metadata": {},
   "source": [
    "### find_V_2 is this result of the integration\n",
    "\n",
    "$$ W = \\int_{V1}^{V2} p \\; dV = \\int_{V1}^{V2} \\frac{constant}{V^2} \\; dV \\;\\;\\;\\;\\;\\;\\;\\; constant = pV^2 \\Rightarrow p = \\frac{constant}{V^2} $$\n",
    "$$ W = constant \\int_{V1}^{V2} V^{-2}\\; dV \\;\\; \\Rightarrow \\;\\; W = -constant V_2^{-1} - (-constant) V_1^{-1}  $$\n",
    "$$ W = -p_2V_2^2 V_2^{-1} - (-p_1V_1^2) V_1^{-1} \\;\\; \\Rightarrow \\;\\; W = p_1V_1 - p_2V_2 \\;\\; \\Rightarrow \\;\\; W = p_1V_1 - \\frac{constant}{V_2^2}V_2 $$\n",
    "$$ \\frac{constant}{m v_2} = p_1v_1m - W \\;\\; \\Rightarrow \\;\\; \\frac{1}{v_2} = \\frac{p_1v_1m^2}{constant} - \\frac{W m}{constant} $$\n",
    "$$ \\frac{1}{v_2} = \\frac{p_1v_1m^2}{p_1v_1^2m^2} - \\frac{W m}{p_1v_1^2m^2} \\;\\; \\Rightarrow \\;\\; \\frac{1}{v_2} = \\frac{1}{v_1} - \\frac{W}{m p_1v_1^2} $$\n",
    "$$ v_2 = \\left ( \\frac{1}{\\frac{1}{v_1} - \\frac{W}{m p_1v_1^2}}  \\right ) $$\n"
   ]
  },
  {
   "cell_type": "code",
   "execution_count": 23,
   "metadata": {},
   "outputs": [],
   "source": [
    "p_1 = lbf_per_squaredIn_to_pascal(500) # pa\n",
    "v_1 = cubicFt_per_lb_to_cubicMeter_per_kg(1.701) # m**3 / kg\n",
    "u_1 = btu_per_lb_to_j_per_kg(1363.3) # J / kg\n",
    "u_2 = btu_per_lb_to_j_per_kg(990.58) # J / kg\n",
    "Q = btu_to_j(-342.9) # J\n",
    "m_vapor = lb_to_kg(1.2) # kg\n",
    "n = 2\n",
    "\n",
    "delta_ke = 0\n",
    "delta_pe = 0"
   ]
  },
  {
   "cell_type": "code",
   "execution_count": 24,
   "metadata": {},
   "outputs": [
    {
     "name": "stdout",
     "output_type": "stream",
     "text": [
      "W = 110110.28183999995 (J)\n",
      "W = 104.36399999999996 (BTU)\n"
     ]
    }
   ],
   "source": [
    "V_1 = find_volume(v=v_1, m=m_vapor) # m**3\n",
    "\n",
    "delta_U = find_delta_U(delta_u=(u_2 - u_1), m=m_vapor) # J\n",
    "W = find_work(Q=Q, delta_ke=delta_ke, delta_pe=delta_pe, delta_U=delta_U) # J\n",
    "print(f'W = {W} (J)')\n",
    "print(f'W = {j_to_btu(W)} (BTU)')"
   ]
  },
  {
   "cell_type": "code",
   "execution_count": 25,
   "metadata": {},
   "outputs": [
    {
     "name": "stdout",
     "output_type": "stream",
     "text": [
      "v_2 = 0.23734769319420254 (m**3 / kg)\n",
      "v_2 = 3.801942229039028 (ft**3 / lb)\n"
     ]
    }
   ],
   "source": [
    "v_2 = find_v_2(v_1=v_1, W=W, m=m_vapor, p_1=p_1)\n",
    "#v_2 = find_v_2(v_1=1701, W=104.4, m=1.2, p_1=500)\n",
    "print(f'v_2 = {v_2} (m**3 / kg)')\n",
    "print(f'v_2 = {cubicM_per_kg_to_cubicFeet_per_lb(v_2)} (ft**3 / lb)')"
   ]
  }
 ],
 "metadata": {
  "kernelspec": {
   "display_name": "Python 3.9.13 64-bit (microsoft store)",
   "language": "python",
   "name": "python3"
  },
  "language_info": {
   "codemirror_mode": {
    "name": "ipython",
    "version": 3
   },
   "file_extension": ".py",
   "mimetype": "text/x-python",
   "name": "python",
   "nbconvert_exporter": "python",
   "pygments_lexer": "ipython3",
   "version": "3.9.13"
  },
  "orig_nbformat": 4,
  "vscode": {
   "interpreter": {
    "hash": "58203ea5cc6b953255c20a4b38db5ab9c1cb279d706fcbe41a9032f183adb22a"
   }
  }
 },
 "nbformat": 4,
 "nbformat_minor": 2
}
